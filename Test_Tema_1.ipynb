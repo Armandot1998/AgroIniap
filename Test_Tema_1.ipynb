{
  "nbformat": 4,
  "nbformat_minor": 0,
  "metadata": {
    "colab": {
      "name": "Test_Tema_1.ipynb",
      "provenance": [],
      "authorship_tag": "ABX9TyPw99ahgF5LdbSQKUdhn3/g",
      "include_colab_link": true
    },
    "kernelspec": {
      "name": "python3",
      "display_name": "Python 3"
    }
  },
  "cells": [
    {
      "cell_type": "markdown",
      "metadata": {
        "id": "view-in-github",
        "colab_type": "text"
      },
      "source": [
        "<a href=\"https://colab.research.google.com/github/Armandot1998/AgroIniap/blob/master/Test_Tema_1.ipynb\" target=\"_parent\"><img src=\"https://colab.research.google.com/assets/colab-badge.svg\" alt=\"Open In Colab\"/></a>"
      ]
    },
    {
      "cell_type": "markdown",
      "metadata": {
        "id": "OyW3CC3IUEH6",
        "colab_type": "text"
      },
      "source": [
        "**1. Python es un lenguaje:**                                           \n",
        "- Interpretado y gratuito\n",
        "\n",
        "**2. Respecto a Python 2.x, Python 3.x:**\n",
        "- Es más eficiente y reusable.\n",
        "\n",
        "**3. Para trabajar con Python:**\n",
        "- Podemos trabajar mediante consola.\n",
        "- Podemos trabajar mediante entornos de desarrollo como Spyder.\n",
        "- Podemos trabajar mediante notebooks.  \n",
        "\n",
        "**4. A la hora de trabajar con Jupyter:**\n",
        "- Debemos salvar continuamente el notebook manualmente para no perder\n",
        "los cambios introducidos.\n",
        "\n",
        "**5. A la hora de programar con Python:**\n",
        "- Hay unas guías de estilo que son recomendables seguir de cara a tener un\n",
        "código de calidad, reusable y facilitar su comprensión. \n",
        "\n",
        "**6. Los comentarios en Python:**\n",
        "-  Son importantes y necesarios de cara a facilitar la comprensión del código.\n",
        "\n",
        "**7.Respecto a los conjuntos podemos decir que:**\n",
        "-  No admiten elementos repetidos\n",
        "\n",
        "**8. Una tupla:**\n",
        "- Es una lista inmutable. \n",
        "\n",
        "**9. Matplotlib:**\n",
        "- Es una librería de visualización\n",
        "\n",
        "**10. Para dibujar un histograma en Python, llamamos a la función:**\n",
        "- plotHistogram()."
      ]
    }
  ]
}